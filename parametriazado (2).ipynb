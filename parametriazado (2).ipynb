{
 "cells": [
  {
   "cell_type": "markdown",
   "id": "df8d4771-11da-4d1f-b02e-9fca6dbc7fe2",
   "metadata": {},
   "source": [
    "#### Pos-proceso 01\n",
    "\n",
    "* Grafico los residuales de la velcidad en x, y y\n",
    "* Grafico el numero de Courant maximo"
   ]
  },
  {
   "cell_type": "code",
   "execution_count": 3,
   "id": "a6e86b8b-8b45-4623-a164-795a54be5e9c",
   "metadata": {},
   "outputs": [],
   "source": [
    "import numpy as np\n",
    "import matplotlib.pyplot as plt"
   ]
  },
  {
   "cell_type": "code",
   "execution_count": 1,
   "id": "425b2e3a-5e35-4d55-acc1-e0912ff9c96d",
   "metadata": {},
   "outputs": [],
   "source": [
    "#Guardo el nombre del archivo donde tengo almacenada la info de los residuales\n",
    "name = 'logSimulacion'\n",
    "residuals = open(name)\n",
    "\n",
    "#Entro al archivo controlDict dentro de la carpeta system para obtener informacion acerca de la simulacion\n",
    "controlDict = open(\"system/controlDict\")"
   ]
  },
  {
   "cell_type": "code",
   "execution_count": 4,
   "id": "1f5166e4-a90f-4ee5-8594-630ca673cad0",
   "metadata": {},
   "outputs": [
    {
     "ename": "IndexError",
     "evalue": "list index out of range",
     "output_type": "error",
     "traceback": [
      "\u001b[1;31m---------------------------------------------------------------------------\u001b[0m",
      "\u001b[1;31mIndexError\u001b[0m                                Traceback (most recent call last)",
      "\u001b[1;32mc:\\Users\\juanse\\Documents\\Dosis_de_refuerzo\\Fluid\\BFS_3000\\parametriazado.ipynb Cell 4\u001b[0m in \u001b[0;36m<cell line: 3>\u001b[1;34m()\u001b[0m\n\u001b[0;32m      <a href='vscode-notebook-cell:/c%3A/Users/juanse/Documents/Dosis_de_refuerzo/Fluid/BFS_3000/parametriazado.ipynb#W3sZmlsZQ%3D%3D?line=0'>1</a>\u001b[0m \u001b[39m#Dentro de la carpeta controDict tomo el tiempo total y el delta de tiempo\u001b[39;00m\n\u001b[0;32m      <a href='vscode-notebook-cell:/c%3A/Users/juanse/Documents/Dosis_de_refuerzo/Fluid/BFS_3000/parametriazado.ipynb#W3sZmlsZQ%3D%3D?line=1'>2</a>\u001b[0m line \u001b[39m=\u001b[39m controlDict\u001b[39m.\u001b[39mreadlines()        \u001b[39m#Divido el archivo en lineas\u001b[39;00m\n\u001b[1;32m----> <a href='vscode-notebook-cell:/c%3A/Users/juanse/Documents/Dosis_de_refuerzo/Fluid/BFS_3000/parametriazado.ipynb#W3sZmlsZQ%3D%3D?line=2'>3</a>\u001b[0m words \u001b[39m=\u001b[39m line[\u001b[39m24\u001b[39;49m]\u001b[39m.\u001b[39msplit()              \u001b[39m#Escojo la linea donde está el tiempo y la divido por espacios\u001b[39;00m\n\u001b[0;32m      <a href='vscode-notebook-cell:/c%3A/Users/juanse/Documents/Dosis_de_refuerzo/Fluid/BFS_3000/parametriazado.ipynb#W3sZmlsZQ%3D%3D?line=3'>4</a>\u001b[0m T \u001b[39m=\u001b[39m \u001b[39mfloat\u001b[39m(words[\u001b[39m1\u001b[39m]\u001b[39m.\u001b[39msplit(\u001b[39m'\u001b[39m\u001b[39m;\u001b[39m\u001b[39m'\u001b[39m)[\u001b[39m0\u001b[39m])     \u001b[39m#Guardo el tiempo final\u001b[39;00m\n\u001b[0;32m      <a href='vscode-notebook-cell:/c%3A/Users/juanse/Documents/Dosis_de_refuerzo/Fluid/BFS_3000/parametriazado.ipynb#W3sZmlsZQ%3D%3D?line=5'>6</a>\u001b[0m words \u001b[39m=\u001b[39m line[\u001b[39m26\u001b[39m]\u001b[39m.\u001b[39msplit()              \u001b[39m#Escojo la linea donde está el tiempo y la divido por espacios\u001b[39;00m\n",
      "\u001b[1;31mIndexError\u001b[0m: list index out of range"
     ]
    }
   ],
   "source": [
    "#Dentro de la carpeta controDict tomo el tiempo total y el delta de tiempo\n",
    "line = controlDict.readlines()        #Divido el archivo en lineas\n",
    "words = line[24].split()              #Escojo la linea donde está el tiempo y la divido por espacios\n",
    "T = float(words[1].split(';')[0])     #Guardo el tiempo final\n",
    "\n",
    "words = line[26].split()              #Escojo la linea donde está el tiempo y la divido por espacios\n",
    "dt = float(words[1].split(';')[0])    #Guardo el delta de tiempo\n",
    "\n",
    "points = int(T/dt)\n",
    "time = np.zeros(points)\n",
    "\n",
    "print(T)"
   ]
  },
  {
   "cell_type": "code",
   "execution_count": null,
   "id": "50b368fb-0288-434e-a783-205a8081aa9c",
   "metadata": {},
   "outputs": [],
   "source": [
    "for line in residuals:\n",
    "    line = line.rstrip()\n",
    "    separation = line.split()\n",
    "\n",
    "    if not 'Time' in separation:\n",
    "        continue\n",
    "    elif ':' in separation:\n",
    "        continue\n",
    "    else:\n",
    "        k += 1\n",
    "        #words = line.split()\n",
    "        target = separation[2]\n",
    "        time[k] = float(target)\n",
    "        \n",
    "residuals.close()\n",
    "\n",
    "residuals = open(name)\n",
    "\n",
    "num_iterations = 3\n",
    "Res_Ux = np.zeros(points)\n",
    "\n",
    "LINE = residuals.readlines()\n",
    "\n",
    "count = -1\n",
    "k = -1 \n",
    "for i in LINE:\n",
    "    count += 1\n",
    "    if not i.startswith('PIMPLE:'):\n",
    "        continue\n",
    "    elif '{}'.format(num_iterations) != i.split()[2]:\n",
    "        continue\n",
    "    else:\n",
    "        k += 1\n",
    "        phrase = LINE[count+1]\n",
    "        words = phrase.split()\n",
    "        target = words[11]\n",
    "        number = target.split(',')\n",
    "        Res_Ux[k] = float(number[0])\n",
    "\n",
    "residuals.close()\n",
    "\n",
    "plt.plot(time[50:points], Res_Ux[50:points])\n",
    "plt.show()\n"
   ]
  }
 ],
 "metadata": {
  "kernelspec": {
   "display_name": "Python 3",
   "language": "python",
   "name": "python3"
  },
  "language_info": {
   "codemirror_mode": {
    "name": "ipython",
    "version": 3
   },
   "file_extension": ".py",
   "mimetype": "text/x-python",
   "name": "python",
   "nbconvert_exporter": "python",
   "pygments_lexer": "ipython3",
   "version": "3.10.9"
  },
  "vscode": {
   "interpreter": {
    "hash": "4b049f0ac5a50da6681f4c21b5db1b73916e076481250de84014486e2b9fc748"
   }
  }
 },
 "nbformat": 4,
 "nbformat_minor": 5
}
