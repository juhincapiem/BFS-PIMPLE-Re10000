{
 "cells": [
  {
   "cell_type": "markdown",
   "id": "df8d4771-11da-4d1f-b02e-9fca6dbc7fe2",
   "metadata": {},
   "source": [
    "#### Pos-proceso 01\n",
    "\n",
    "* Grafico los residuales de la velcidad en x, y y\n",
    "* Grafico el numero de Courant maximo"
   ]
  },
  {
   "cell_type": "code",
   "execution_count": 1,
   "id": "a6e86b8b-8b45-4623-a164-795a54be5e9c",
   "metadata": {},
   "outputs": [],
   "source": [
    "import numpy as np\n",
    "import matplotlib.pyplot as plt"
   ]
  },
  {
   "cell_type": "code",
   "execution_count": 11,
   "id": "425b2e3a-5e35-4d55-acc1-e0912ff9c96d",
   "metadata": {},
   "outputs": [],
   "source": [
    "#Guardo el nombre del archivo donde tengo almacenada la info de los residuales\n",
    "name = 'logSimulacion'\n",
    "residuals = open(name)\n",
    "\n",
    "#Entro al archivo controlDict dentro de la carpeta system para obtener informacion acerca de la simulacion\n",
    "controlDict = open(\"system/controlDict\")\n",
    "\n",
    "T = 10 #Tiempo total de la simulación\n",
    "dt = 0.001 #Delta de tiempo\n",
    "points = int(T/dt)\n",
    "\n",
    "time = np.zeros(points)\n",
    "k = -1"
   ]
  },
  {
   "cell_type": "code",
   "execution_count": 12,
   "id": "1f5166e4-a90f-4ee5-8594-630ca673cad0",
   "metadata": {},
   "outputs": [],
   "source": [
    "#Dentro de la carpeta controDict tomo el tiempo total y el delta de tiempo\n",
    "line = controlDict.readlines()\n",
    "        \n",
    "for line in controlDict:\n",
    "    line = line.rstrip()\n",
    "    separation = line.split()\n",
    "    \n",
    "    if separation[0]=='endTime':\n",
    "        print('yes')\n",
    "    "
   ]
  },
  {
   "cell_type": "code",
   "execution_count": null,
   "id": "50b368fb-0288-434e-a783-205a8081aa9c",
   "metadata": {},
   "outputs": [],
   "source": [
    "for line in residuals:\n",
    "    line = line.rstrip()\n",
    "    separation = line.split()\n",
    "\n",
    "    if not 'Time' in separation:\n",
    "        continue\n",
    "    elif ':' in separation:\n",
    "        continue\n",
    "    else:\n",
    "        k += 1\n",
    "        #words = line.split()\n",
    "        target = separation[2]\n",
    "        time[k] = float(target)\n",
    "        \n",
    "residuals.close()\n",
    "\n",
    "residuals = open(name)\n",
    "\n",
    "num_iterations = 3\n",
    "Res_Ux = np.zeros(points)\n",
    "\n",
    "LINE = residuals.readlines()\n",
    "\n",
    "count = -1\n",
    "k = -1 \n",
    "for i in LINE:\n",
    "    count += 1\n",
    "    if not i.startswith('PIMPLE:'):\n",
    "        continue\n",
    "    elif '{}'.format(num_iterations) != i.split()[2]:\n",
    "        continue\n",
    "    else:\n",
    "        k += 1\n",
    "        phrase = LINE[count+1]\n",
    "        words = phrase.split()\n",
    "        target = words[11]\n",
    "        number = target.split(',')\n",
    "        Res_Ux[k] = float(number[0])\n",
    "\n",
    "residuals.close()\n",
    "\n",
    "plt.plot(time[50:points], Res_Ux[50:points])\n",
    "plt.show()\n"
   ]
  }
 ],
 "metadata": {
  "kernelspec": {
   "display_name": "Python 3 (ipykernel)",
   "language": "python",
   "name": "python3"
  },
  "language_info": {
   "codemirror_mode": {
    "name": "ipython",
    "version": 3
   },
   "file_extension": ".py",
   "mimetype": "text/x-python",
   "name": "python",
   "nbconvert_exporter": "python",
   "pygments_lexer": "ipython3",
   "version": "3.10.6"
  }
 },
 "nbformat": 4,
 "nbformat_minor": 5
}
